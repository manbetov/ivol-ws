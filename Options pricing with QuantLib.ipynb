{
 "cells": [
  {
   "cell_type": "code",
   "execution_count": 16,
   "metadata": {},
   "outputs": [
    {
     "ename": "TypeError",
     "evalue": "UnitedStates.__init__() missing 1 required positional argument: 'm'",
     "output_type": "error",
     "traceback": [
      "\u001b[0;31m---------------------------------------------------------------------------\u001b[0m",
      "\u001b[0;31mTypeError\u001b[0m                                 Traceback (most recent call last)",
      "Cell \u001b[0;32mIn[16], line 36\u001b[0m\n\u001b[1;32m     34\u001b[0m day_count \u001b[38;5;241m=\u001b[39m ql\u001b[38;5;241m.\u001b[39mActual365Fixed()\n\u001b[1;32m     35\u001b[0m \u001b[38;5;66;03m# calendar = ql.UnitedStates()\u001b[39;00m\n\u001b[0;32m---> 36\u001b[0m calendar \u001b[38;5;241m=\u001b[39m \u001b[43mql\u001b[49m\u001b[38;5;241;43m.\u001b[39;49m\u001b[43mUnitedStates\u001b[49m\u001b[43m(\u001b[49m\u001b[43m)\u001b[49m\n\u001b[1;32m     37\u001b[0m \u001b[38;5;66;03m# calendar = ql.UnitedStates(ql.UnitedStates.Market.NYSE)\u001b[39;00m\n\u001b[1;32m     38\u001b[0m \u001b[38;5;66;03m# calendar = ql.UnitedStates(ql.NullCalendar())\u001b[39;00m\n\u001b[1;32m     40\u001b[0m ql\u001b[38;5;241m.\u001b[39mSettings\u001b[38;5;241m.\u001b[39minstance()\u001b[38;5;241m.\u001b[39mevaluationDate \u001b[38;5;241m=\u001b[39m calculation_date\n",
      "\u001b[0;31mTypeError\u001b[0m: UnitedStates.__init__() missing 1 required positional argument: 'm'"
     ]
    }
   ],
   "source": [
    "import pandas as pd \n",
    "import datetime\n",
    "import QuantLib as ql\n",
    "import matplotlib.pyplot as plt\n",
    "from statistics import mean\n",
    "import ivolatility as ivol\n",
    "from auth import initializeIvolAuthentication\n",
    "\n",
    "initializeIvolAuthentication()\n",
    "\n",
    "\n",
    "period = 360\n",
    "OTMpct = 20\n",
    "optType = 'C'\n",
    "date_str = '2022-06-30'\n",
    "date = datetime.datetime.strptime(date_str, '%Y-%m-%d')\n",
    "\n",
    "option_type = ql.Option.Call\n",
    "calculation_date = ql.Date(date.day, date.month, date.year)\n",
    "maturity_date = calculation_date + period\n",
    "\n",
    "getMarketData = ivol.setMethod('/equities/eod/stock-prices')\n",
    "spot_price = getMarketData(symbol='AAPL', from_=date_str, to=date_str).at[0, 'close']\n",
    "\n",
    "getMarketData = ivol.setMethod('/equities/eod/ivs')\n",
    "marketData = getMarketData(symbol='AAPL', from_=date_str, to=date_str)\n",
    "marketData['period'] = pd.to_numeric(marketData['period'])\n",
    "marketData = marketData.loc[(marketData['Call/Put'] == optType) & (marketData['out-of-the-money %'] == OTMpct) & (marketData['period'] == period)]\n",
    "\n",
    "strike_price = marketData['strike'].values[0]\n",
    "volatility = marketData['IV'].values[0]\n",
    "dividend_rate =  0.023\n",
    "risk_free_rate = 0.001\n",
    "day_count = ql.Actual365Fixed()\n",
    "# calendar = ql.UnitedStates()\n",
    "calendar = ql.UnitedStates()\n",
    "# calendar = ql.UnitedStates(ql.UnitedStates.Market.NYSE)\n",
    "# calendar = ql.UnitedStates(ql.NullCalendar())\n",
    "\n",
    "ql.Settings.instance().evaluationDate = calculation_date\n",
    "payoff = ql.PlainVanillaPayoff(option_type, strike_price)\n",
    "settlement = calculation_date\n",
    "am_exercise = ql.AmericanExercise(settlement, maturity_date)\n",
    "american_option = ql.VanillaOption(payoff, am_exercise)\n",
    "eu_exercise = ql.EuropeanExercise(maturity_date)\n",
    "european_option = ql.VanillaOption(payoff, eu_exercise)\n",
    "spot_handle = ql.QuoteHandle( ql.SimpleQuote(spot_price) )\n",
    "flat_ts = ql.YieldTermStructureHandle( ql.FlatForward(calculation_date, risk_free_rate, day_count) )\n",
    "dividend_yield = ql.YieldTermStructureHandle( ql.FlatForward(calculation_date, dividend_rate, day_count) )\n",
    "flat_vol_ts = ql.BlackVolTermStructureHandle( ql.BlackConstantVol(calculation_date, calendar, volatility, day_count) )\n",
    "bsm_process = ql.BlackScholesMertonProcess(spot_handle, dividend_yield, flat_ts, flat_vol_ts)\n",
    "\n",
    "def binomial_price(option, process, steps):\n",
    "  binomial_engine = ql.BinomialVanillaEngine(process, 'crr', steps)\n",
    "  option.setPricingEngine(binomial_engine)\n",
    "  return option.NPV()\n",
    "\n",
    "steps = range(5, 200, 1)\n",
    "eu_prices = [binomial_price(european_option, bsm_process, step) for step in steps]\n",
    "am_prices = [binomial_price(american_option, bsm_process, step) for step in steps]\n",
    "\n",
    "#theoretical European option price \n",
    "european_option.setPricingEngine(ql.AnalyticEuropeanEngine(bsm_process))\n",
    "bsm_price = european_option.NPV()\n",
    "\n",
    "print('BSM price:', bsm_price)\n",
    "print('European option:', mean(eu_prices))\n",
    "print('American option:', mean(am_prices))\n",
    "\n",
    "plt.plot(steps, am_prices, label='American Option', lw=2, alpha=0.6)\n",
    "plt.plot(steps, eu_prices, label='European Option', lw=2, alpha=0.6)\n",
    "plt.plot([5,200],[bsm_price, bsm_price], 'r--', label='BlackScholesMerton', lw=2, alpha=0.6)\n",
    "plt.xlabel('Steps')\n",
    "plt.ylabel('Price')\n",
    "plt.legend()\n",
    "plt.show()"
   ]
  },
  {
   "cell_type": "code",
   "execution_count": 15,
   "metadata": {},
   "outputs": [
    {
     "name": "stdout",
     "output_type": "stream",
     "text": [
      "1.33\n"
     ]
    }
   ],
   "source": [
    "import QuantLib as ql\n",
    "print(ql.__version__)\n"
   ]
  }
 ],
 "metadata": {
  "kernelspec": {
   "display_name": "Python 3",
   "language": "python",
   "name": "python3"
  },
  "language_info": {
   "codemirror_mode": {
    "name": "ipython",
    "version": 3
   },
   "file_extension": ".py",
   "mimetype": "text/x-python",
   "name": "python",
   "nbconvert_exporter": "python",
   "pygments_lexer": "ipython3",
   "version": "3.11.4"
  }
 },
 "nbformat": 4,
 "nbformat_minor": 2
}
